{
 "metadata": {
  "language_info": {
   "codemirror_mode": {
    "name": "ipython",
    "version": 3
   },
   "file_extension": ".py",
   "mimetype": "text/x-python",
   "name": "python",
   "nbconvert_exporter": "python",
   "pygments_lexer": "ipython3",
   "version": "3.6.8-final"
  },
  "orig_nbformat": 2,
  "kernelspec": {
   "name": "python36864bitc97209607d294874840a0082b912edae",
   "display_name": "Python 3.6.8 64-bit",
   "language": "python"
  }
 },
 "nbformat": 4,
 "nbformat_minor": 2,
 "cells": [
  {
   "source": [
    "# Sanity Check Notebook\n",
    "This is a sanity check scripts to validate training / inference consistency and getting insights into what the model is actually doing. It requires:\n",
    "\n",
    "1. The saved training / testing / validation datasets \n",
    "2. The trained model (**checkpoint**)\n",
    "\n",
    "It runs inference on the training / testing / validation datasets showing input / target / predictions"
   ],
   "cell_type": "markdown",
   "metadata": {}
  },
  {
   "cell_type": "code",
   "execution_count": 2,
   "metadata": {},
   "outputs": [],
   "source": [
    "import sys\n",
    "sys.path.append('..')\n",
    "from transformer_modules import HFT5GenerationModel\n",
    "import pytorch_lightning as pl\n",
    "import numpy as np\n",
    "from transformers import T5Tokenizer\n",
    "from datasets import load_from_disk\n"
   ]
  },
  {
   "cell_type": "code",
   "execution_count": 3,
   "metadata": {},
   "outputs": [],
   "source": [
    "checkpoint_path = '../models/t5-small-SGD/logs/schema-guided/train-batch256-adafactor/checkpoints/epoch=7-step=5139.ckpt'\n",
    "dataset_name = \"GEMSGD\"\n",
    "tokenizer_name = \"T5Tokenizer\"\n",
    "linearizer_name = \"SGD_SchemaGuidedLinearizer\"\n",
    "train_dataset_path = f'../data/{dataset_name}_{tokenizer_name}{linearizer_name}_train'\n",
    "val_dataset_path = f'../data/{dataset_name}_{tokenizer_name}{linearizer_name}_val'\n",
    "test_dataset_path = f'../data/{dataset_name}_{tokenizer_name}{linearizer_name}_test'"
   ]
  },
  {
   "cell_type": "code",
   "execution_count": 4,
   "metadata": {},
   "outputs": [],
   "source": [
    "model = HFT5GenerationModel.load_from_checkpoint(checkpoint_path=checkpoint_path)"
   ]
  },
  {
   "cell_type": "code",
   "execution_count": 5,
   "metadata": {},
   "outputs": [],
   "source": [
    "tokenizer = T5Tokenizer.from_pretrained('t5-small')"
   ]
  },
  {
   "cell_type": "code",
   "execution_count": 17,
   "metadata": {},
   "outputs": [],
   "source": [
    "from numpy.random import default_rng\n",
    "import pandas as pd\n",
    "SEED=20\n",
    "TEST_SIZE=10\n",
    "rng = default_rng()\n",
    "idx = rng.choice(SEED, size=TEST_SIZE, replace=False)\n",
    "chosen_idx = [92, 504, 2340, 2579, 2864, 3546, 3667, 4463]\n",
    "\n",
    "def sample_and_generate_with_split(dataset_path, chosen_idx=[]):\n",
    "    dataset = load_from_disk(dataset_path)\n",
    "    dataset.set_format('torch', columns=['input_ids','labels'])\n",
    "    dataset = dataset[chosen_idx] if chosen_idx else dataset[idx] \n",
    "    input_text = tokenizer.batch_decode(dataset['input_ids'], skip_special_tokens=True)\n",
    "    target_text = tokenizer.batch_decode(dataset['labels'], skip_special_tokens=True)\n",
    "    output = model.forward(dataset['input_ids'])\n",
    "    pred_text = tokenizer.batch_decode(output, skip_special_tokens=True)\n",
    "    return input_text, target_text, pred_text\n",
    "\n",
    "def check_split(dataset_path, chosen_idx=[]):\n",
    "    input_text, target_text, pred_text = sample_and_generate_with_split(dataset_path, chosen_idx=chosen_idx)\n",
    "    res_dict = {'input':[], 'target':[], 'pred': []}\n",
    "    for in_t, tar_t, pred_t in zip(input_text, target_text, pred_text):\n",
    "        res_dict['input'].append(in_t)\n",
    "        res_dict['target'].append(tar_t)\n",
    "        res_dict['pred'].append(pred_t)\n",
    "    res_df = pd.DataFrame(res_dict)\n",
    "    return res_df"
   ]
  },
  {
   "cell_type": "code",
   "execution_count": 20,
   "metadata": {},
   "outputs": [],
   "source": [
    "def inspect_model_output(dataset_name, tokenizer_name, linearizer_name, model_path, split='test', chosen_idx=[]):\n",
    "    train_dataset_path = f'../data/{dataset_name}_{tokenizer_name}{linearizer_name}_train'\n",
    "    val_dataset_path = f'../data/{dataset_name}_{tokenizer_name}{linearizer_name}_val'\n",
    "    test_dataset_path = f'../data/{dataset_name}_{tokenizer_name}{linearizer_name}_test'\n",
    "    dataset_path = None\n",
    "    if split == 'test':\n",
    "        dataset_path = test_dataset_path\n",
    "    elif split == 'train':\n",
    "        dataset_path = train_dataset_path\n",
    "    elif split == 'val':\n",
    "        dataset_path = val_dataset_path\n",
    "    else:\n",
    "        raise ValueError(\"split = [train | test | val]\")\n",
    "    assert (os.path.isdir(dataset_path))\n",
    "    model = HFT5GenerationModel.load_from_checkpoint(checkpoint_path=checkpoint_path)\n",
    "    res_df = check_split(dataset_path, chosen_idx=chosen_idx)\n",
    "    return res_df"
   ]
  },
  {
   "cell_type": "code",
   "execution_count": 11,
   "metadata": {},
   "outputs": [],
   "source": [
    "pd.options.display.max_colwidth = 400\n",
    "pd.options.display.width = 400"
   ]
  },
  {
   "cell_type": "code",
   "execution_count": 13,
   "metadata": {},
   "outputs": [],
   "source": [
    "train_df = check_split(train_dataset_path)"
   ]
  },
  {
   "cell_type": "code",
   "execution_count": 19,
   "metadata": {},
   "outputs": [
    {
     "output_type": "execute_result",
     "data": {
      "text/plain": [
       "                                                                                                                                                                           input  \\\n",
       "0                                                                                                  INFORM ( street_address = Milpitas Square ) INFORM ( price_range = moderate )   \n",
       "1                                                                                                                                           REQUEST ( cuisine ) REQUEST ( city )   \n",
       "2                                                                                     OFFER ( restaurant_name = Bird Dog ) OFFER ( city = Palo Alto ) INFORM_COUNT ( count = 7 )   \n",
       "3                            CONFIRM ( restaurant_name = Bird Dog ) CONFIRM ( city = Palo Alto ) CONFIRM ( time = 11:30 am ) CONFIRM ( party_size = 2 ) CONFIRM ( date = today )   \n",
       "4                                                                                            OFFER ( restaurant_name = Anjappar Chettinad Restaurant ) OFFER ( city = Milpitas )   \n",
       "5  CONFIRM ( restaurant_name = Olive Garden Italian Restaurant ) CONFIRM ( city = Milpitas ) CONFIRM ( time = 1:30 pm ) CONFIRM ( date = March 11th ) CONFIRM ( party_size = 2 )   \n",
       "6                                                                                                                                                               REQUEST ( city )   \n",
       "7                                                                                                                                    OFFER_INTENT ( intent = ReserveRestaurant )   \n",
       "8                                                                               OFFER ( restaurant_name = Aria Dining & Banquets Fine Indian Cuisine ) OFFER ( city = Milpitas )   \n",
       "9                                                                                                                                                                        GOODBYE   \n",
       "\n",
       "                                                                                                                                                                            target  \\\n",
       "0                                                                                                                          Price range is moderate, The address is Milpitas Square   \n",
       "1                                                                                     Sure, I will help you, What type of food are you looking for? Which city should i search in?   \n",
       "2                                                            I see that 7 restaurants suit to what you requested. Bird Dog seems as a good restaurant and is located in Palo Alto.   \n",
       "3                                                        Can you please confirm that you want to book a table for 2 at 11:30 am at the Bird Dog restaurant in Palo Alto for today.   \n",
       "4                                                                                      I found a good restaurant in Milpitas, The restaurant name is Anjappar Chettinad Restaurant   \n",
       "5  Please confirm the following details: Booking a table at Olive Garden Italian Restaurant at Milpitas on March 11th reservation time is 1:30 pm, The reservation is for 2 people   \n",
       "6                                                                                                         Do you have a specific which you want the eating place to be located at?   \n",
       "7                                                                                                                                            shall i reserve a table here for you?   \n",
       "8                                                                            I found another restaurant for you, Aria Dining & Banquets Fine Indian Cuisine Restaurant at Milpitas   \n",
       "9                                                                                                                                                                Have a good time!   \n",
       "\n",
       "                                                                                  pred  \n",
       "0                      The address is Milpitas Square and the price range is moderate.  \n",
       "1                                     What kind of food do you want and in which city?  \n",
       "2                   I found 7 restaurants. Bird Dog is a nice restaurant in Palo Alto.  \n",
       "3  Please confirm the following details: Booking a table for 2 at Bird Dog in Palo Alt  \n",
       "4                        Anjappar Chettinad Restaurant is a nice restaurant in Milpita  \n",
       "5   Please confirm: table for 2 at Olive Garden Italian Restaurant in Milpitas at 1:30  \n",
       "6                                                          What city should I look in?  \n",
       "7                                                         Do you want to book a table?  \n",
       "8                      I found Aria Dining & Banquets Fine Indian Cuisine in Milpitas.  \n",
       "9                                                                    Have a great day.  "
      ],
      "text/html": "<div>\n<style scoped>\n    .dataframe tbody tr th:only-of-type {\n        vertical-align: middle;\n    }\n\n    .dataframe tbody tr th {\n        vertical-align: top;\n    }\n\n    .dataframe thead th {\n        text-align: right;\n    }\n</style>\n<table border=\"1\" class=\"dataframe\">\n  <thead>\n    <tr style=\"text-align: right;\">\n      <th></th>\n      <th>input</th>\n      <th>target</th>\n      <th>pred</th>\n    </tr>\n  </thead>\n  <tbody>\n    <tr>\n      <th>0</th>\n      <td>INFORM ( street_address = Milpitas Square ) INFORM ( price_range = moderate )</td>\n      <td>Price range is moderate, The address is Milpitas Square</td>\n      <td>The address is Milpitas Square and the price range is moderate.</td>\n    </tr>\n    <tr>\n      <th>1</th>\n      <td>REQUEST ( cuisine ) REQUEST ( city )</td>\n      <td>Sure, I will help you, What type of food are you looking for? Which city should i search in?</td>\n      <td>What kind of food do you want and in which city?</td>\n    </tr>\n    <tr>\n      <th>2</th>\n      <td>OFFER ( restaurant_name = Bird Dog ) OFFER ( city = Palo Alto ) INFORM_COUNT ( count = 7 )</td>\n      <td>I see that 7 restaurants suit to what you requested. Bird Dog seems as a good restaurant and is located in Palo Alto.</td>\n      <td>I found 7 restaurants. Bird Dog is a nice restaurant in Palo Alto.</td>\n    </tr>\n    <tr>\n      <th>3</th>\n      <td>CONFIRM ( restaurant_name = Bird Dog ) CONFIRM ( city = Palo Alto ) CONFIRM ( time = 11:30 am ) CONFIRM ( party_size = 2 ) CONFIRM ( date = today )</td>\n      <td>Can you please confirm that you want to book a table for 2 at 11:30 am at the Bird Dog restaurant in Palo Alto for today.</td>\n      <td>Please confirm the following details: Booking a table for 2 at Bird Dog in Palo Alt</td>\n    </tr>\n    <tr>\n      <th>4</th>\n      <td>OFFER ( restaurant_name = Anjappar Chettinad Restaurant ) OFFER ( city = Milpitas )</td>\n      <td>I found a good restaurant in Milpitas, The restaurant name is Anjappar Chettinad Restaurant</td>\n      <td>Anjappar Chettinad Restaurant is a nice restaurant in Milpita</td>\n    </tr>\n    <tr>\n      <th>5</th>\n      <td>CONFIRM ( restaurant_name = Olive Garden Italian Restaurant ) CONFIRM ( city = Milpitas ) CONFIRM ( time = 1:30 pm ) CONFIRM ( date = March 11th ) CONFIRM ( party_size = 2 )</td>\n      <td>Please confirm the following details: Booking a table at Olive Garden Italian Restaurant at Milpitas on March 11th reservation time is 1:30 pm, The reservation is for 2 people</td>\n      <td>Please confirm: table for 2 at Olive Garden Italian Restaurant in Milpitas at 1:30</td>\n    </tr>\n    <tr>\n      <th>6</th>\n      <td>REQUEST ( city )</td>\n      <td>Do you have a specific which you want the eating place to be located at?</td>\n      <td>What city should I look in?</td>\n    </tr>\n    <tr>\n      <th>7</th>\n      <td>OFFER_INTENT ( intent = ReserveRestaurant )</td>\n      <td>shall i reserve a table here for you?</td>\n      <td>Do you want to book a table?</td>\n    </tr>\n    <tr>\n      <th>8</th>\n      <td>OFFER ( restaurant_name = Aria Dining &amp; Banquets Fine Indian Cuisine ) OFFER ( city = Milpitas )</td>\n      <td>I found another restaurant for you, Aria Dining &amp; Banquets Fine Indian Cuisine Restaurant at Milpitas</td>\n      <td>I found Aria Dining &amp; Banquets Fine Indian Cuisine in Milpitas.</td>\n    </tr>\n    <tr>\n      <th>9</th>\n      <td>GOODBYE</td>\n      <td>Have a good time!</td>\n      <td>Have a great day.</td>\n    </tr>\n  </tbody>\n</table>\n</div>"
     },
     "metadata": {},
     "execution_count": 19
    }
   ],
   "source": [
    "train_df"
   ]
  },
  {
   "cell_type": "code",
   "execution_count": 18,
   "metadata": {},
   "outputs": [],
   "source": [
    "test_df = check_split(test_dataset_path, chosen_idx=chosen_idx)"
   ]
  },
  {
   "cell_type": "code",
   "execution_count": 19,
   "metadata": {},
   "outputs": [
    {
     "output_type": "execute_result",
     "data": {
      "text/plain": [
       "                                                                                                                                                                                                                                                                                                                                                                     input  \\\n",
       "0                                                                                                                                                                                                                                                                                                                                         REQUEST ( End date of the trip )   \n",
       "1                            OFFER ( The company that provides air transport services = Alaska Airlines ) OFFER ( Departure time of the flight flying to the destination = 1:05 pm ) OFFER ( Whether the flight is a direct one = True ) OFFER ( Departure time of the flight coming back from the trip = 10:05 am ) OFFER ( The total cost of the flight tickets = $101 )   \n",
       "2                             OFFER ( The company that provides air transport services = Southwest Airlines ) OFFER ( Departure time of the flight flying to the destination = 4 pm ) OFFER ( Whether the flight is a direct one = True ) OFFER ( Departure time of the flight coming back from the trip = 5:10 pm ) OFFER ( The total cost of the flight tickets = $124 )   \n",
       "3                             OFFER ( The company that provides air transport services = Southwest Airlines ) OFFER ( Departure time of the flight flying to the destination = 4 pm ) OFFER ( Whether the flight is a direct one = True ) OFFER ( Departure time of the flight coming back from the trip = 5:10 pm ) OFFER ( The total cost of the flight tickets = $130 )   \n",
       "4                             OFFER ( The company that provides air transport services = American Airlines ) OFFER ( Departure time of the flight flying to the destination = 11 pm ) OFFER ( Whether the flight is a direct one = True ) OFFER ( Departure time of the flight coming back from the trip = 6:15 pm ) OFFER ( The total cost of the flight tickets = $218 )   \n",
       "5                                                                                                                                                                                                                                                                                                               REQUEST ( The name of the airport or city to depart from )   \n",
       "6  OFFER ( The company that provides air transport services = Southwest Airlines ) OFFER ( Departure time of the flight flying to the destination = 4 pm ) OFFER ( Whether the flight is a direct one = True ) OFFER ( Departure time of the flight coming back from the trip = 1:10 pm ) OFFER ( The total cost of the flight tickets = $218 ) INFORM_COUNT ( count = 2 )   \n",
       "7                                                                                                                                                                                                                                                                                                               REQUEST ( The name of the airport or city to depart from )   \n",
       "\n",
       "                                                                                                                                                                              target                                                                                   pred  \n",
       "0                                                I need to know the starting date and return date of your travel. Shall I try to search for the flight on March 3rd as leaving date?                                                                  When are you leaving?  \n",
       "1  Are you interested in flying with Alaska Airlines? The starting flight will takes off at 1:05 pm and the returning flight takes off at 10:05 am. The price of the ticket is $101.         Alaska Airlines has a direct flight that departs at 10:05 am. The flight costs  \n",
       "2                    How about a direct Southwest Airlines flight whose onward flight leaves at 4 pm and the return flight takes off at 5:10 pm with the cost of the ticket as $124?            Southwest Airlines has a direct flight that departs at 5:10 pm. It costs $1  \n",
       "3                                                                 There's a Southwest Airlines direct flight leaving at 4 pm and returning at 5:10 pm if you want it. It costs $130.            Southwest Airlines has a direct flight that departs at 5:10 pm. It costs $1  \n",
       "4                                                  There's also a direct American Airlines flight taking of at 11 pm, with the return flight at 6:15 pm. Tickets are priced at $218.             American Airlines has a direct flight that departs at 6:15 pm. It costs $2  \n",
       "5                                                                                                                             Will you leave on March 8th? Where do you depart from?                                                          Where are you departing from?  \n",
       "6                                                i found 2 for you. there's a southwest airlines flight that leaves at 4 pm and the flight back leaves at 1:10 pm and it costs $218.  I found 2 flights for you. Southwest Airlines has a direct flight that departs at 1:1  \n",
       "7                                                                                                              What city do you want to depart from? Also, will it be on March 10th?                                                          Where are you departing from?  "
      ],
      "text/html": "<div>\n<style scoped>\n    .dataframe tbody tr th:only-of-type {\n        vertical-align: middle;\n    }\n\n    .dataframe tbody tr th {\n        vertical-align: top;\n    }\n\n    .dataframe thead th {\n        text-align: right;\n    }\n</style>\n<table border=\"1\" class=\"dataframe\">\n  <thead>\n    <tr style=\"text-align: right;\">\n      <th></th>\n      <th>input</th>\n      <th>target</th>\n      <th>pred</th>\n    </tr>\n  </thead>\n  <tbody>\n    <tr>\n      <th>0</th>\n      <td>REQUEST ( End date of the trip )</td>\n      <td>I need to know the starting date and return date of your travel. Shall I try to search for the flight on March 3rd as leaving date?</td>\n      <td>When are you leaving?</td>\n    </tr>\n    <tr>\n      <th>1</th>\n      <td>OFFER ( The company that provides air transport services = Alaska Airlines ) OFFER ( Departure time of the flight flying to the destination = 1:05 pm ) OFFER ( Whether the flight is a direct one = True ) OFFER ( Departure time of the flight coming back from the trip = 10:05 am ) OFFER ( The total cost of the flight tickets = $101 )</td>\n      <td>Are you interested in flying with Alaska Airlines? The starting flight will takes off at 1:05 pm and the returning flight takes off at 10:05 am. The price of the ticket is $101.</td>\n      <td>Alaska Airlines has a direct flight that departs at 10:05 am. The flight costs</td>\n    </tr>\n    <tr>\n      <th>2</th>\n      <td>OFFER ( The company that provides air transport services = Southwest Airlines ) OFFER ( Departure time of the flight flying to the destination = 4 pm ) OFFER ( Whether the flight is a direct one = True ) OFFER ( Departure time of the flight coming back from the trip = 5:10 pm ) OFFER ( The total cost of the flight tickets = $124 )</td>\n      <td>How about a direct Southwest Airlines flight whose onward flight leaves at 4 pm and the return flight takes off at 5:10 pm with the cost of the ticket as $124?</td>\n      <td>Southwest Airlines has a direct flight that departs at 5:10 pm. It costs $1</td>\n    </tr>\n    <tr>\n      <th>3</th>\n      <td>OFFER ( The company that provides air transport services = Southwest Airlines ) OFFER ( Departure time of the flight flying to the destination = 4 pm ) OFFER ( Whether the flight is a direct one = True ) OFFER ( Departure time of the flight coming back from the trip = 5:10 pm ) OFFER ( The total cost of the flight tickets = $130 )</td>\n      <td>There's a Southwest Airlines direct flight leaving at 4 pm and returning at 5:10 pm if you want it. It costs $130.</td>\n      <td>Southwest Airlines has a direct flight that departs at 5:10 pm. It costs $1</td>\n    </tr>\n    <tr>\n      <th>4</th>\n      <td>OFFER ( The company that provides air transport services = American Airlines ) OFFER ( Departure time of the flight flying to the destination = 11 pm ) OFFER ( Whether the flight is a direct one = True ) OFFER ( Departure time of the flight coming back from the trip = 6:15 pm ) OFFER ( The total cost of the flight tickets = $218 )</td>\n      <td>There's also a direct American Airlines flight taking of at 11 pm, with the return flight at 6:15 pm. Tickets are priced at $218.</td>\n      <td>American Airlines has a direct flight that departs at 6:15 pm. It costs $2</td>\n    </tr>\n    <tr>\n      <th>5</th>\n      <td>REQUEST ( The name of the airport or city to depart from )</td>\n      <td>Will you leave on March 8th? Where do you depart from?</td>\n      <td>Where are you departing from?</td>\n    </tr>\n    <tr>\n      <th>6</th>\n      <td>OFFER ( The company that provides air transport services = Southwest Airlines ) OFFER ( Departure time of the flight flying to the destination = 4 pm ) OFFER ( Whether the flight is a direct one = True ) OFFER ( Departure time of the flight coming back from the trip = 1:10 pm ) OFFER ( The total cost of the flight tickets = $218 ) INFORM_COUNT ( count = 2 )</td>\n      <td>i found 2 for you. there's a southwest airlines flight that leaves at 4 pm and the flight back leaves at 1:10 pm and it costs $218.</td>\n      <td>I found 2 flights for you. Southwest Airlines has a direct flight that departs at 1:1</td>\n    </tr>\n    <tr>\n      <th>7</th>\n      <td>REQUEST ( The name of the airport or city to depart from )</td>\n      <td>What city do you want to depart from? Also, will it be on March 10th?</td>\n      <td>Where are you departing from?</td>\n    </tr>\n  </tbody>\n</table>\n</div>"
     },
     "metadata": {},
     "execution_count": 19
    }
   ],
   "source": [
    "test_df"
   ]
  },
  {
   "cell_type": "code",
   "execution_count": 22,
   "metadata": {},
   "outputs": [],
   "source": [
    "val_df = check_split(val_dataset_path)\n"
   ]
  },
  {
   "cell_type": "code",
   "execution_count": 23,
   "metadata": {},
   "outputs": [
    {
     "output_type": "execute_result",
     "data": {
      "text/plain": [
       "                                                                                                                                                       input  \\\n",
       "0                                                                                                                          INFORM ( price_range = moderate )   \n",
       "1                                                                                                                                                    GOODBYE   \n",
       "2                                                                                                                                    REQUEST ( shared_ride )   \n",
       "3                                                                                                                                                    GOODBYE   \n",
       "4                                                                                                                       OFFER_INTENT ( intent = ReserveCar )   \n",
       "5                                                         OFFER ( hotel_name = Aloft Phoenix-Airport ) OFFER ( star_rating = 3 ) INFORM_COUNT ( count = 10 )   \n",
       "6                                                                                         CONFIRM ( song_name = Carnivore ) CONFIRM ( playback_device = TV )   \n",
       "7  CONFIRM ( account_type = checking ) CONFIRM ( transfer_amount = $1600 ) CONFIRM ( recipient_name = philip ) CONFIRM ( recipient_account_type = checking )   \n",
       "8                                                                                                                                                    GOODBYE   \n",
       "9                                                                        OFFER ( hotel_name = AC Hotel By Marriott Beverly Hills ) OFFER ( star_rating = 1 )   \n",
       "\n",
       "                                                                                        target  \\\n",
       "0                                                                 Nope, the price is moderate.   \n",
       "1                                                                             Have a good day!   \n",
       "2                                                                               A shared ride?   \n",
       "3                                                                            Have a great day!   \n",
       "4                                                         Would you like to reserve a car now?   \n",
       "5  There are 10 hotels you might like. There is Aloft Phoenix-Airport, it has a 3 star rating.   \n",
       "6                                                     Please confirm the song Carnivore on tv.   \n",
       "7   You would like to transfer $1600 to philip to my checking account to his checking account.   \n",
       "8                                                                             Have a good day.   \n",
       "9                  AC Hotel By Marriott Beverly Hills is a decent hotel out there with 1 star.   \n",
       "\n",
       "                                                                                                         pred  \n",
       "0                                                                                The price range is moderate.  \n",
       "1                                                                                           Have a great day.  \n",
       "2                                                                                  Do you want a shared ride?  \n",
       "3                                                                                           Have a great day.  \n",
       "4                                                                         Would you like to reserve this car?  \n",
       "5                                                 I found 10 hotels. Aloft Phoenix-Airport is a 3 star hotel.  \n",
       "6                                                         Please confirm the following: Play Carnivore on TV.  \n",
       "7  Please confirm the following details: Transfer $1600 from your checking account to philip checking account  \n",
       "8                                                                                           Have a great day.  \n",
       "9                                                  AC Hotel By Marriott Beverly Hills is a nice 1 star hotel.  "
      ],
      "text/html": "<div>\n<style scoped>\n    .dataframe tbody tr th:only-of-type {\n        vertical-align: middle;\n    }\n\n    .dataframe tbody tr th {\n        vertical-align: top;\n    }\n\n    .dataframe thead th {\n        text-align: right;\n    }\n</style>\n<table border=\"1\" class=\"dataframe\">\n  <thead>\n    <tr style=\"text-align: right;\">\n      <th></th>\n      <th>input</th>\n      <th>target</th>\n      <th>pred</th>\n    </tr>\n  </thead>\n  <tbody>\n    <tr>\n      <th>0</th>\n      <td>INFORM ( price_range = moderate )</td>\n      <td>Nope, the price is moderate.</td>\n      <td>The price range is moderate.</td>\n    </tr>\n    <tr>\n      <th>1</th>\n      <td>GOODBYE</td>\n      <td>Have a good day!</td>\n      <td>Have a great day.</td>\n    </tr>\n    <tr>\n      <th>2</th>\n      <td>REQUEST ( shared_ride )</td>\n      <td>A shared ride?</td>\n      <td>Do you want a shared ride?</td>\n    </tr>\n    <tr>\n      <th>3</th>\n      <td>GOODBYE</td>\n      <td>Have a great day!</td>\n      <td>Have a great day.</td>\n    </tr>\n    <tr>\n      <th>4</th>\n      <td>OFFER_INTENT ( intent = ReserveCar )</td>\n      <td>Would you like to reserve a car now?</td>\n      <td>Would you like to reserve this car?</td>\n    </tr>\n    <tr>\n      <th>5</th>\n      <td>OFFER ( hotel_name = Aloft Phoenix-Airport ) OFFER ( star_rating = 3 ) INFORM_COUNT ( count = 10 )</td>\n      <td>There are 10 hotels you might like. There is Aloft Phoenix-Airport, it has a 3 star rating.</td>\n      <td>I found 10 hotels. Aloft Phoenix-Airport is a 3 star hotel.</td>\n    </tr>\n    <tr>\n      <th>6</th>\n      <td>CONFIRM ( song_name = Carnivore ) CONFIRM ( playback_device = TV )</td>\n      <td>Please confirm the song Carnivore on tv.</td>\n      <td>Please confirm the following: Play Carnivore on TV.</td>\n    </tr>\n    <tr>\n      <th>7</th>\n      <td>CONFIRM ( account_type = checking ) CONFIRM ( transfer_amount = $1600 ) CONFIRM ( recipient_name = philip ) CONFIRM ( recipient_account_type = checking )</td>\n      <td>You would like to transfer $1600 to philip to my checking account to his checking account.</td>\n      <td>Please confirm the following details: Transfer $1600 from your checking account to philip checking account</td>\n    </tr>\n    <tr>\n      <th>8</th>\n      <td>GOODBYE</td>\n      <td>Have a good day.</td>\n      <td>Have a great day.</td>\n    </tr>\n    <tr>\n      <th>9</th>\n      <td>OFFER ( hotel_name = AC Hotel By Marriott Beverly Hills ) OFFER ( star_rating = 1 )</td>\n      <td>AC Hotel By Marriott Beverly Hills is a decent hotel out there with 1 star.</td>\n      <td>AC Hotel By Marriott Beverly Hills is a nice 1 star hotel.</td>\n    </tr>\n  </tbody>\n</table>\n</div>"
     },
     "metadata": {},
     "execution_count": 23
    }
   ],
   "source": [
    "val_df"
   ]
  },
  {
   "cell_type": "code",
   "execution_count": null,
   "metadata": {},
   "outputs": [],
   "source": []
  }
 ]
}