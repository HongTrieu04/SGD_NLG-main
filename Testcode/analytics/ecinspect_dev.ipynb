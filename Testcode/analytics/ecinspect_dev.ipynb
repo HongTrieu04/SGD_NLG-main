{
 "metadata": {
  "language_info": {
   "codemirror_mode": {
    "name": "ipython",
    "version": 3
   },
   "file_extension": ".py",
   "mimetype": "text/x-python",
   "name": "python",
   "nbconvert_exporter": "python",
   "pygments_lexer": "ipython3",
   "version": "3.6.8-final"
  },
  "orig_nbformat": 2,
  "kernelspec": {
   "name": "python36864bitc97209607d294874840a0082b912edae",
   "display_name": "Python 3.6.8 64-bit",
   "language": "python"
  }
 },
 "nbformat": 4,
 "nbformat_minor": 2,
 "cells": [
  {
   "cell_type": "code",
   "execution_count": 1,
   "metadata": {},
   "outputs": [],
   "source": [
    "import sys\n",
    "sys.path.append('..')\n",
    "import transformer_modules\n",
    "import transformers\n",
    "import pytorch_lightning as pl\n",
    "from datasets import load_from_disk\n",
    "from util import load_config, get_class_object\n",
    "from numpy.random import default_rng\n",
    "import pandas as pd\n",
    "rng = default_rng()"
   ]
  },
  {
   "cell_type": "code",
   "execution_count": 14,
   "metadata": {},
   "outputs": [],
   "source": [
    "model_name = 't5-small-SGD'\n",
    "exp_name = 'schema-guided'\n",
    "ver_name = 'train-batch256-adafactor'\n",
    "config_file = os.path.join('../models', model_name, 'logs', exp_name, ver_name, 'config.yaml')\n",
    "# config = load_config(config_file)\n",
    "test_name = 'test-batch256-adafactor+beam+max_length/annotated_cases.csv'\n",
    "# config"
   ]
  },
  {
   "cell_type": "code",
   "execution_count": 30,
   "metadata": {},
   "outputs": [],
   "source": [
    "def make_base_dir(model_name, exp_name, ver_name):\n",
    "    return f\"../models/{model_name}/logs/{exp_name}/{ver_name}\"\n",
    "\n",
    "def get_dataset_path(tokenizer_name, linearizer_name, split='test'):\n",
    "    return os.path.join('../data', f'GEMSGD_{tokenizer_name}{linearizer_name}_{split}')\n",
    "\n",
    "def sample_from_dataset(dataset_path, chosen_idx=[], seed=20, size=10):\n",
    "    dataset = load_from_disk(dataset_path)\n",
    "    dataset.set_format('torch', columns=['input_ids', 'labels'])\n",
    "    dataset = dataset[chosen_idx] if chosen_idx else dataset[rng.choice(seed, size=size, replace=False)]\n",
    "    return dataset\n",
    "\n",
    "def get_checkpoint_path(model_name, exp_name, ver_name, epoch_num=7, step_num=5139, checkpoint_name=None):\n",
    "    base_dir = make_base_dir(model_name, exp_name, ver_name)\n",
    "    checkpoint_path = os.path.join(base_dir, 'checkpoints', checkpoint_name or f'epoch={epoch_num}-step={step_num}.ckpt')\n",
    "    return checkpoint_path\n",
    "\n",
    "def load_model(model_class_obj, checkpoint_path):\n",
    "    model = model_class_obj.load_from_checkpoint(checkpoint_path=checkpoint_path)\n",
    "    return model\n",
    "\n",
    "# def load_tokenizer(tokenizer_class):\n",
    "#     if tokenizer\n",
    "\n",
    "def forward_model(model, dataset):\n",
    "    outputs = model.forward(dataset['input_ids'])\n",
    "    return outputs\n",
    "\n",
    "def batch_decode(texts, tokenizer):\n",
    "    decoded_text = tokenizer.batch_decode(texts, skip_special_tokens=True)\n",
    "    return decoded_text\n",
    "\n",
    "def construct_df(model, tokenizer, dataset):\n",
    "    input_text = tokenizer.batch_decode(dataset['input_ids'], skip_special_tokens=True)\n",
    "    target_text = tokenizer.batch_decode(dataset['labels'], skip_special_tokens=True)\n",
    "    output = model.forward(dataset['input_ids'])\n",
    "    pred_text = tokenizer.batch_decode(output, skip_special_tokens=True)\n",
    "    df = pd.DataFrame()\n",
    "    df['input'] = input_text\n",
    "    df['target'] = target_text\n",
    "    df['pred'] = pred_text\n",
    "    return df\n",
    "\n",
    "def predict_with_model(model_name, exp_name, ver_name, epoch_num=7, step_num=5139, checkpoint_name=None, chosen_idx=[], seed=20, size=10):\n",
    "    config_file = os.path.join('../models', model_name, 'logs', exp_name, ver_name, 'config.yaml')\n",
    "    config = load_config(config_file)\n",
    "    model_class_object = get_class_object(transformer_modules, config['LightningModuleName'])\n",
    "    checkpoint_path = get_checkpoint_path(model_name, exp_name, ver_name, epoch_num=epoch_num, step_num=step_num, checkpoint_name=checkpoint_name)\n",
    "    tokenizer_name = config['LightningDataModuleParas']['tokenizer_class']\n",
    "    tokenizer_class = get_class_object(transformers, tokenizer_name)\n",
    "    linearizer_class = config['LightningDataModuleParas']['linearizer_class']\n",
    "    dataset_path = get_dataset_path(tokenizer_name, linearizer_class)\n",
    "\n",
    "    model = load_model(model_class_object, checkpoint_path)\n",
    "    tokenizer = tokenizer_class.from_pretrained(config['LightningDataModuleParas']['tokenizer_path'])\n",
    "    test_dataset = sample_from_dataset(dataset_path, chosen_idx=chosen_idx, seed=seed, size=size)\n",
    "    res_df = construct_df(model, tokenizer, test_dataset)\n",
    "    return res_df\n",
    "\n",
    "def get_bad_case(annotated_file, by='has_slot_error', limit=20):\n",
    "    anno_df = pd.read_csv(annotated_file)\n",
    "    if by == 'has_slot_error':\n",
    "        return anno_df[anno_df[by] == True][:limit]\n",
    "    elif by in {'PARENT-recall', 'PARENT-precision'}:\n",
    "        return anno_df.sort_values(by)[:limit]\n",
    "    else:\n",
    "        raise ValueError(\"Invalid bad case clue!\")\n"
   ]
  },
  {
   "cell_type": "code",
   "execution_count": 31,
   "metadata": {},
   "outputs": [
    {
     "output_type": "execute_result",
     "data": {
      "text/plain": [
       "      Unnamed: 0                                                ref  \\\n",
       "682          682             You can contact them at 702-678-5780.    \n",
       "1242        1242  You can call the property on 510-943-8264. No,...   \n",
       "5301        5301                                      It was 2018.    \n",
       "5795        5795      You can reach them by phone at 925-945-1221.    \n",
       "215          215                          The ticket price is $45.    \n",
       "9260        9260                You can call them at 213-626-1901.    \n",
       "9249        9249  Are there any particular categories of events ...   \n",
       "7503        7503                                  Tickets are $35.    \n",
       "3513        3513                       The cost per day is $32.00.    \n",
       "3038        3038  You can contact them at 707-575-5123, and your...   \n",
       "7556        7556            Call them via the number 408-850-9418.    \n",
       "9206        9206   Do you prefer music, theater or something else.    \n",
       "2103        2103  Do you like music or theater events or somethi...   \n",
       "7564        7564                                The ticket is $55.    \n",
       "8213        8213  You should check the historical landmark named...   \n",
       "2794        2794  Would you like a psychiatrist or psychologist ...   \n",
       "232          232                        Yes, tickets start at $55.    \n",
       "2758        2758             You can contact them on 510-797-1800.    \n",
       "4433        4433             You can contact them at 925-945-1701.    \n",
       "4128        4128                               It's economy class.    \n",
       "\n",
       "                                                   pred  \\\n",
       "682                 Their phone number is 702-678-5780.   \n",
       "1242   It does not have a garage. The phone number i...   \n",
       "5301                               It came out in 2018.   \n",
       "5795                      Their number is 925-945-1221.   \n",
       "215                            It costs $45 per ticket.   \n",
       "9260                Their phone number is 213-626-1901.   \n",
       "9249            Are you interested in Music or Theater?   \n",
       "7503                              The ticket costs $35.   \n",
       "3513                           It costs $32.00 per day.   \n",
       "3038   I've confirmed your appointment. The phone nu...   \n",
       "7556                      Their number is 408-850-9418.   \n",
       "9206            Are you interested in Music or Theater?   \n",
       "2103                        What city should I look in?   \n",
       "7564                           It costs $55 per ticket.   \n",
       "8213                 Alcatraz is a Historical Landmark.   \n",
       "2794   Are you looking for Psychiatrist or Psycholog...   \n",
       "232                            It costs $55 per ticket.   \n",
       "2758                  The phone number is 510-797-1800.   \n",
       "4433                        The number is 925-945-1701.   \n",
       "4128                             It is an Economy seat.   \n",
       "\n",
       "                                            dialog_acts      domain  \\\n",
       "682   [{'act': 4, 'slot': 'phone_number', 'values': ...      Travel   \n",
       "1242  [{'act': 4, 'slot': 'has_garage', 'values': ['...       Homes   \n",
       "5301   [{'act': 4, 'slot': 'year', 'values': ['2018']}]       Music   \n",
       "5795  [{'act': 4, 'slot': 'phone_number', 'values': ...    Services   \n",
       "215   [{'act': 4, 'slot': 'price_per_ticket', 'value...      Events   \n",
       "9260  [{'act': 4, 'slot': 'phone_number', 'values': ...      Travel   \n",
       "9249  [{'act': 13, 'slot': 'event_type', 'values': [...      Events   \n",
       "7503  [{'act': 4, 'slot': 'price_per_ticket', 'value...      Events   \n",
       "3513  [{'act': 4, 'slot': 'price_per_day', 'values':...  RentalCars   \n",
       "3038  [{'act': 4, 'slot': 'phone_number', 'values': ...    Services   \n",
       "7556  [{'act': 4, 'slot': 'phone_number', 'values': ...    Services   \n",
       "9206  [{'act': 13, 'slot': 'event_type', 'values': [...      Events   \n",
       "2103  [{'act': 13, 'slot': 'event_type', 'values': [...      Events   \n",
       "7564  [{'act': 4, 'slot': 'price_per_ticket', 'value...      Events   \n",
       "8213  [{'act': 11, 'slot': 'attraction_name', 'value...      Travel   \n",
       "2794  [{'act': 13, 'slot': 'type', 'values': ['Psych...    Services   \n",
       "232   [{'act': 4, 'slot': 'price_per_ticket', 'value...      Events   \n",
       "2758  [{'act': 4, 'slot': 'phone_number', 'values': ...       Homes   \n",
       "4433  [{'act': 4, 'slot': 'phone_number', 'values': ...       Homes   \n",
       "4128  [{'act': 4, 'slot': 'seating_class', 'values':...     Flights   \n",
       "\n",
       "      has_slot_error  PARENT-precision  PARENT-recall  PARENT-fscore  \n",
       "682            False               0.0          0.003            0.0  \n",
       "1242           False               0.0          0.003            0.0  \n",
       "5301           False               0.0          0.003            0.0  \n",
       "5795           False               0.0          0.003            0.0  \n",
       "215            False               0.0          0.000            0.0  \n",
       "9260           False               0.0          0.003            0.0  \n",
       "9249           False               0.0          0.000            0.0  \n",
       "7503           False               0.0          0.003            0.0  \n",
       "3513           False               0.0          0.000            0.0  \n",
       "3038           False               0.0          0.003            0.0  \n",
       "7556           False               0.0          0.003            0.0  \n",
       "9206           False               0.0          0.000            0.0  \n",
       "2103           False               0.0          0.003            0.0  \n",
       "7564           False               0.0          0.000            0.0  \n",
       "8213           False               0.0          0.000            0.0  \n",
       "2794           False               0.0          0.000            0.0  \n",
       "232            False               0.0          0.000            0.0  \n",
       "2758           False               0.0          0.003            0.0  \n",
       "4433           False               0.0          0.003            0.0  \n",
       "4128           False               0.0          0.000            0.0  "
      ],
      "text/html": "<div>\n<style scoped>\n    .dataframe tbody tr th:only-of-type {\n        vertical-align: middle;\n    }\n\n    .dataframe tbody tr th {\n        vertical-align: top;\n    }\n\n    .dataframe thead th {\n        text-align: right;\n    }\n</style>\n<table border=\"1\" class=\"dataframe\">\n  <thead>\n    <tr style=\"text-align: right;\">\n      <th></th>\n      <th>Unnamed: 0</th>\n      <th>ref</th>\n      <th>pred</th>\n      <th>dialog_acts</th>\n      <th>domain</th>\n      <th>has_slot_error</th>\n      <th>PARENT-precision</th>\n      <th>PARENT-recall</th>\n      <th>PARENT-fscore</th>\n    </tr>\n  </thead>\n  <tbody>\n    <tr>\n      <th>682</th>\n      <td>682</td>\n      <td>You can contact them at 702-678-5780.</td>\n      <td>Their phone number is 702-678-5780.</td>\n      <td>[{'act': 4, 'slot': 'phone_number', 'values': ...</td>\n      <td>Travel</td>\n      <td>False</td>\n      <td>0.0</td>\n      <td>0.003</td>\n      <td>0.0</td>\n    </tr>\n    <tr>\n      <th>1242</th>\n      <td>1242</td>\n      <td>You can call the property on 510-943-8264. No,...</td>\n      <td>It does not have a garage. The phone number i...</td>\n      <td>[{'act': 4, 'slot': 'has_garage', 'values': ['...</td>\n      <td>Homes</td>\n      <td>False</td>\n      <td>0.0</td>\n      <td>0.003</td>\n      <td>0.0</td>\n    </tr>\n    <tr>\n      <th>5301</th>\n      <td>5301</td>\n      <td>It was 2018.</td>\n      <td>It came out in 2018.</td>\n      <td>[{'act': 4, 'slot': 'year', 'values': ['2018']}]</td>\n      <td>Music</td>\n      <td>False</td>\n      <td>0.0</td>\n      <td>0.003</td>\n      <td>0.0</td>\n    </tr>\n    <tr>\n      <th>5795</th>\n      <td>5795</td>\n      <td>You can reach them by phone at 925-945-1221.</td>\n      <td>Their number is 925-945-1221.</td>\n      <td>[{'act': 4, 'slot': 'phone_number', 'values': ...</td>\n      <td>Services</td>\n      <td>False</td>\n      <td>0.0</td>\n      <td>0.003</td>\n      <td>0.0</td>\n    </tr>\n    <tr>\n      <th>215</th>\n      <td>215</td>\n      <td>The ticket price is $45.</td>\n      <td>It costs $45 per ticket.</td>\n      <td>[{'act': 4, 'slot': 'price_per_ticket', 'value...</td>\n      <td>Events</td>\n      <td>False</td>\n      <td>0.0</td>\n      <td>0.000</td>\n      <td>0.0</td>\n    </tr>\n    <tr>\n      <th>9260</th>\n      <td>9260</td>\n      <td>You can call them at 213-626-1901.</td>\n      <td>Their phone number is 213-626-1901.</td>\n      <td>[{'act': 4, 'slot': 'phone_number', 'values': ...</td>\n      <td>Travel</td>\n      <td>False</td>\n      <td>0.0</td>\n      <td>0.003</td>\n      <td>0.0</td>\n    </tr>\n    <tr>\n      <th>9249</th>\n      <td>9249</td>\n      <td>Are there any particular categories of events ...</td>\n      <td>Are you interested in Music or Theater?</td>\n      <td>[{'act': 13, 'slot': 'event_type', 'values': [...</td>\n      <td>Events</td>\n      <td>False</td>\n      <td>0.0</td>\n      <td>0.000</td>\n      <td>0.0</td>\n    </tr>\n    <tr>\n      <th>7503</th>\n      <td>7503</td>\n      <td>Tickets are $35.</td>\n      <td>The ticket costs $35.</td>\n      <td>[{'act': 4, 'slot': 'price_per_ticket', 'value...</td>\n      <td>Events</td>\n      <td>False</td>\n      <td>0.0</td>\n      <td>0.003</td>\n      <td>0.0</td>\n    </tr>\n    <tr>\n      <th>3513</th>\n      <td>3513</td>\n      <td>The cost per day is $32.00.</td>\n      <td>It costs $32.00 per day.</td>\n      <td>[{'act': 4, 'slot': 'price_per_day', 'values':...</td>\n      <td>RentalCars</td>\n      <td>False</td>\n      <td>0.0</td>\n      <td>0.000</td>\n      <td>0.0</td>\n    </tr>\n    <tr>\n      <th>3038</th>\n      <td>3038</td>\n      <td>You can contact them at 707-575-5123, and your...</td>\n      <td>I've confirmed your appointment. The phone nu...</td>\n      <td>[{'act': 4, 'slot': 'phone_number', 'values': ...</td>\n      <td>Services</td>\n      <td>False</td>\n      <td>0.0</td>\n      <td>0.003</td>\n      <td>0.0</td>\n    </tr>\n    <tr>\n      <th>7556</th>\n      <td>7556</td>\n      <td>Call them via the number 408-850-9418.</td>\n      <td>Their number is 408-850-9418.</td>\n      <td>[{'act': 4, 'slot': 'phone_number', 'values': ...</td>\n      <td>Services</td>\n      <td>False</td>\n      <td>0.0</td>\n      <td>0.003</td>\n      <td>0.0</td>\n    </tr>\n    <tr>\n      <th>9206</th>\n      <td>9206</td>\n      <td>Do you prefer music, theater or something else.</td>\n      <td>Are you interested in Music or Theater?</td>\n      <td>[{'act': 13, 'slot': 'event_type', 'values': [...</td>\n      <td>Events</td>\n      <td>False</td>\n      <td>0.0</td>\n      <td>0.000</td>\n      <td>0.0</td>\n    </tr>\n    <tr>\n      <th>2103</th>\n      <td>2103</td>\n      <td>Do you like music or theater events or somethi...</td>\n      <td>What city should I look in?</td>\n      <td>[{'act': 13, 'slot': 'event_type', 'values': [...</td>\n      <td>Events</td>\n      <td>False</td>\n      <td>0.0</td>\n      <td>0.003</td>\n      <td>0.0</td>\n    </tr>\n    <tr>\n      <th>7564</th>\n      <td>7564</td>\n      <td>The ticket is $55.</td>\n      <td>It costs $55 per ticket.</td>\n      <td>[{'act': 4, 'slot': 'price_per_ticket', 'value...</td>\n      <td>Events</td>\n      <td>False</td>\n      <td>0.0</td>\n      <td>0.000</td>\n      <td>0.0</td>\n    </tr>\n    <tr>\n      <th>8213</th>\n      <td>8213</td>\n      <td>You should check the historical landmark named...</td>\n      <td>Alcatraz is a Historical Landmark.</td>\n      <td>[{'act': 11, 'slot': 'attraction_name', 'value...</td>\n      <td>Travel</td>\n      <td>False</td>\n      <td>0.0</td>\n      <td>0.000</td>\n      <td>0.0</td>\n    </tr>\n    <tr>\n      <th>2794</th>\n      <td>2794</td>\n      <td>Would you like a psychiatrist or psychologist ...</td>\n      <td>Are you looking for Psychiatrist or Psycholog...</td>\n      <td>[{'act': 13, 'slot': 'type', 'values': ['Psych...</td>\n      <td>Services</td>\n      <td>False</td>\n      <td>0.0</td>\n      <td>0.000</td>\n      <td>0.0</td>\n    </tr>\n    <tr>\n      <th>232</th>\n      <td>232</td>\n      <td>Yes, tickets start at $55.</td>\n      <td>It costs $55 per ticket.</td>\n      <td>[{'act': 4, 'slot': 'price_per_ticket', 'value...</td>\n      <td>Events</td>\n      <td>False</td>\n      <td>0.0</td>\n      <td>0.000</td>\n      <td>0.0</td>\n    </tr>\n    <tr>\n      <th>2758</th>\n      <td>2758</td>\n      <td>You can contact them on 510-797-1800.</td>\n      <td>The phone number is 510-797-1800.</td>\n      <td>[{'act': 4, 'slot': 'phone_number', 'values': ...</td>\n      <td>Homes</td>\n      <td>False</td>\n      <td>0.0</td>\n      <td>0.003</td>\n      <td>0.0</td>\n    </tr>\n    <tr>\n      <th>4433</th>\n      <td>4433</td>\n      <td>You can contact them at 925-945-1701.</td>\n      <td>The number is 925-945-1701.</td>\n      <td>[{'act': 4, 'slot': 'phone_number', 'values': ...</td>\n      <td>Homes</td>\n      <td>False</td>\n      <td>0.0</td>\n      <td>0.003</td>\n      <td>0.0</td>\n    </tr>\n    <tr>\n      <th>4128</th>\n      <td>4128</td>\n      <td>It's economy class.</td>\n      <td>It is an Economy seat.</td>\n      <td>[{'act': 4, 'slot': 'seating_class', 'values':...</td>\n      <td>Flights</td>\n      <td>False</td>\n      <td>0.0</td>\n      <td>0.000</td>\n      <td>0.0</td>\n    </tr>\n  </tbody>\n</table>\n</div>"
     },
     "metadata": {},
     "execution_count": 31
    }
   ],
   "source": [
    "base_dir = make_base_dir(model_name, exp_name, ver_name)\n",
    "get_bad_case('../models/t5-small-SGD/logs/schema-guided/test-batch256-adafactor+beam+max_length/annotated_cases.csv', by=\"PARENT-precision\")"
   ]
  },
  {
   "cell_type": "code",
   "execution_count": 11,
   "metadata": {},
   "outputs": [],
   "source": [
    "res_df = predict_with_model(model_name, exp_name, ver_name, chosen_idx=[1,2])"
   ]
  },
  {
   "cell_type": "code",
   "execution_count": 12,
   "metadata": {},
   "outputs": [
    {
     "output_type": "execute_result",
     "data": {
      "text/plain": [
       "                                               input  \\\n",
       "0  CONFIRM ( Place to pick up the car = LGB Airpo...   \n",
       "1  OFFER ( Address of the house = 100 Capitol mal...   \n",
       "\n",
       "                                              target  \\\n",
       "0  You are picking up a hatchback from LGB Airpor...   \n",
       "1  There are 10 houses available, of which there ...   \n",
       "\n",
       "                                                pred  \n",
       "0  Please confirm: You want me to reserve a Hatch...  \n",
       "1  There are 10 houses available. There is a nice...  "
      ],
      "text/html": "<div>\n<style scoped>\n    .dataframe tbody tr th:only-of-type {\n        vertical-align: middle;\n    }\n\n    .dataframe tbody tr th {\n        vertical-align: top;\n    }\n\n    .dataframe thead th {\n        text-align: right;\n    }\n</style>\n<table border=\"1\" class=\"dataframe\">\n  <thead>\n    <tr style=\"text-align: right;\">\n      <th></th>\n      <th>input</th>\n      <th>target</th>\n      <th>pred</th>\n    </tr>\n  </thead>\n  <tbody>\n    <tr>\n      <th>0</th>\n      <td>CONFIRM ( Place to pick up the car = LGB Airpo...</td>\n      <td>You are picking up a hatchback from LGB Airpor...</td>\n      <td>Please confirm: You want me to reserve a Hatch...</td>\n    </tr>\n    <tr>\n      <th>1</th>\n      <td>OFFER ( Address of the house = 100 Capitol mal...</td>\n      <td>There are 10 houses available, of which there ...</td>\n      <td>There are 10 houses available. There is a nice...</td>\n    </tr>\n  </tbody>\n</table>\n</div>"
     },
     "metadata": {},
     "execution_count": 12
    }
   ],
   "source": [
    "res_df"
   ]
  },
  {
   "cell_type": "code",
   "execution_count": 28,
   "metadata": {},
   "outputs": [],
   "source": [
    "model_class_object = get_class_object(transformer_modules, config['LightningModuleName'])\n",
    "checkpoint_path = get_checkpoint_path(model_name, exp_name, ver_name)\n",
    "model = load_model(model_class_object, checkpoint_path)"
   ]
  },
  {
   "cell_type": "code",
   "execution_count": 45,
   "metadata": {},
   "outputs": [],
   "source": [
    "tokenizer_name = config['LightningDataModuleParas']['tokenizer_class']\n",
    "tokenizer_class = get_class_object(transformers, tokenizer_name)\n",
    "tokenizer = tokenizer_class.from_pretrained(config['LightningDataModuleParas']['tokenizer_path'])\n"
   ]
  },
  {
   "cell_type": "code",
   "execution_count": 22,
   "metadata": {},
   "outputs": [],
   "source": [
    "linearizer_class = config['LightningDataModuleParas']['linearizer_class']\n"
   ]
  },
  {
   "cell_type": "code",
   "execution_count": 33,
   "metadata": {},
   "outputs": [],
   "source": [
    "dataset_path = get_dataset_pat h(tokenizer_class, linearizer_class)\n",
    "test_dataset = sample_from_dataset(dataset_path)"
   ]
  },
  {
   "cell_type": "code",
   "execution_count": 35,
   "metadata": {},
   "outputs": [],
   "source": [
    "outputs = forward_model(model, test_dataset)"
   ]
  },
  {
   "cell_type": "code",
   "execution_count": 50,
   "metadata": {},
   "outputs": [],
   "source": [
    "res_df = construct_df(model, tokenizer, test_dataset)"
   ]
  },
  {
   "cell_type": "code",
   "execution_count": 51,
   "metadata": {},
   "outputs": [
    {
     "output_type": "execute_result",
     "data": {
      "text/plain": [
       "                                               input  \\\n",
       "0                                           REQ_MORE   \n",
       "1  INFORM ( The cost for renting the car per day ...   \n",
       "2  INFORM ( Price per night of the house = $522 )...   \n",
       "3      REQUEST ( Type of cab ride = Luxury Regular )   \n",
       "4     REQUEST ( Start date of the trip = March 1st )   \n",
       "5  OFFER ( The company that provides air transpor...   \n",
       "6  OFFER ( Temperature in Fahrenheit = 83 ) OFFER...   \n",
       "7  INFORM ( Contact number of the therapist = 510...   \n",
       "8  OFFER ( Name of artist or play = Advanced Acti...   \n",
       "9                                            GOODBYE   \n",
       "\n",
       "                                              target  \\\n",
       "0                                What else can I do?   \n",
       "1  Your rental has been booked, and you will pay ...   \n",
       "2  Your reservation has been made. The total is $...   \n",
       "3  Sure thing! Would you like a luxury ride or a ...   \n",
       "4                    Are you departing on March 1st?   \n",
       "5  Ok, there is a Southwest Airlines connecting f...   \n",
       "6  There average temperature is 83 degrees Fahren...   \n",
       "7  Yes, the contact number they have listed is 51...   \n",
       "8  The Advanced Acting Scene Study at the TGW Act...   \n",
       "9                               Thank you very much.   \n",
       "\n",
       "                                                pred  \n",
       "0        Is there anything else I can help you with?  \n",
       "1  Your car has been booked. The cost of renting ...  \n",
       "2  Your reservation is complete. The total price ...  \n",
       "3                Luxury, Regular, or something else?  \n",
       "4                  Will you be leaving on March 1st?  \n",
       "5  Southwest Airlines has a flight that leaves at...  \n",
       "6  The average temperature for the day should be ...  \n",
       "7                      Their number is 510-797-3941.  \n",
       "8  There is Advanced Acting Scene Study at TGW Ac...  \n",
       "9                                  Have a great day.  "
      ],
      "text/html": "<div>\n<style scoped>\n    .dataframe tbody tr th:only-of-type {\n        vertical-align: middle;\n    }\n\n    .dataframe tbody tr th {\n        vertical-align: top;\n    }\n\n    .dataframe thead th {\n        text-align: right;\n    }\n</style>\n<table border=\"1\" class=\"dataframe\">\n  <thead>\n    <tr style=\"text-align: right;\">\n      <th></th>\n      <th>input</th>\n      <th>target</th>\n      <th>pred</th>\n    </tr>\n  </thead>\n  <tbody>\n    <tr>\n      <th>0</th>\n      <td>REQ_MORE</td>\n      <td>What else can I do?</td>\n      <td>Is there anything else I can help you with?</td>\n    </tr>\n    <tr>\n      <th>1</th>\n      <td>INFORM ( The cost for renting the car per day ...</td>\n      <td>Your rental has been booked, and you will pay ...</td>\n      <td>Your car has been booked. The cost of renting ...</td>\n    </tr>\n    <tr>\n      <th>2</th>\n      <td>INFORM ( Price per night of the house = $522 )...</td>\n      <td>Your reservation has been made. The total is $...</td>\n      <td>Your reservation is complete. The total price ...</td>\n    </tr>\n    <tr>\n      <th>3</th>\n      <td>REQUEST ( Type of cab ride = Luxury Regular )</td>\n      <td>Sure thing! Would you like a luxury ride or a ...</td>\n      <td>Luxury, Regular, or something else?</td>\n    </tr>\n    <tr>\n      <th>4</th>\n      <td>REQUEST ( Start date of the trip = March 1st )</td>\n      <td>Are you departing on March 1st?</td>\n      <td>Will you be leaving on March 1st?</td>\n    </tr>\n    <tr>\n      <th>5</th>\n      <td>OFFER ( The company that provides air transpor...</td>\n      <td>Ok, there is a Southwest Airlines connecting f...</td>\n      <td>Southwest Airlines has a flight that leaves at...</td>\n    </tr>\n    <tr>\n      <th>6</th>\n      <td>OFFER ( Temperature in Fahrenheit = 83 ) OFFER...</td>\n      <td>There average temperature is 83 degrees Fahren...</td>\n      <td>The average temperature for the day should be ...</td>\n    </tr>\n    <tr>\n      <th>7</th>\n      <td>INFORM ( Contact number of the therapist = 510...</td>\n      <td>Yes, the contact number they have listed is 51...</td>\n      <td>Their number is 510-797-3941.</td>\n    </tr>\n    <tr>\n      <th>8</th>\n      <td>OFFER ( Name of artist or play = Advanced Acti...</td>\n      <td>The Advanced Acting Scene Study at the TGW Act...</td>\n      <td>There is Advanced Acting Scene Study at TGW Ac...</td>\n    </tr>\n    <tr>\n      <th>9</th>\n      <td>GOODBYE</td>\n      <td>Thank you very much.</td>\n      <td>Have a great day.</td>\n    </tr>\n  </tbody>\n</table>\n</div>"
     },
     "metadata": {},
     "execution_count": 51
    }
   ],
   "source": [
    "res_df"
   ]
  },
  {
   "cell_type": "code",
   "execution_count": null,
   "metadata": {},
   "outputs": [],
   "source": []
  }
 ]
}