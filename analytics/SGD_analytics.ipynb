{
 "metadata": {
  "language_info": {
   "codemirror_mode": {
    "name": "ipython",
    "version": 3
   },
   "file_extension": ".py",
   "mimetype": "text/x-python",
   "name": "python",
   "nbconvert_exporter": "python",
   "pygments_lexer": "ipython3",
   "version": "3.6.8-final"
  },
  "orig_nbformat": 2,
  "kernelspec": {
   "name": "python36864bitc97209607d294874840a0082b912edae",
   "display_name": "Python 3.6.8 64-bit",
   "language": "python"
  }
 },
 "nbformat": 4,
 "nbformat_minor": 2,
 "cells": [
  {
   "cell_type": "code",
   "execution_count": 35,
   "metadata": {},
   "outputs": [],
   "source": [
    "from datasets import load_dataset\n",
    "import pandas as pd\n",
    "from collections import defaultdict\n",
    "from tqdm import tqdm\n",
    "import sys\n",
    "sys.path.append('..')\n",
    "from google_nlg.ser import get_ser_slots"
   ]
  },
  {
   "cell_type": "code",
   "execution_count": 4,
   "metadata": {},
   "outputs": [
    {
     "output_type": "stream",
     "name": "stderr",
     "text": [
      "Reusing dataset gem (/home/jc2124/.cache/huggingface/datasets/gem/schema_guided_dialog/1.1.0/a94b3f239aacc2081ffa3ea4414c3cddff25bb680c09756a27ec3e76547187b4)\n"
     ]
    },
    {
     "output_type": "display_data",
     "data": {
      "text/plain": "  0%|          | 0/10 [00:00<?, ?it/s]",
      "application/vnd.jupyter.widget-view+json": {
       "version_major": 2,
       "version_minor": 0,
       "model_id": "81fb3c99b14a488886d29cb7660027a6"
      }
     },
     "metadata": {}
    }
   ],
   "source": [
    "SGD_dataset = load_dataset('gem', 'schema_guided_dialog')"
   ]
  },
  {
   "source": [
    "entity_set = defaultdict(set)\n",
    "entity_count_map = defaultdict(dict)\n",
    "permissible_slots = get_ser_slots(\"../data/dstc8-schema-guided-dialogue/\")\n",
    "for split in ['train', 'test', 'validation']:\n",
    "    for example in tqdm(SGD_dataset[split]):\n",
    "        for action in example['dialog_acts']:\n",
    "            if action['slot'] in permissible_slots[example['service']]:\n",
    "                for value in action['values']:\n",
    "                    value = value.lower()\n",
    "                    entity_set[split].add(value)\n",
    "                    entity_count_map[split][value] = entity_count_map[split][value]+1 if value in entity_count_map[split] else 1"
   ],
   "cell_type": "code",
   "metadata": {},
   "execution_count": 98,
   "outputs": [
    {
     "output_type": "stream",
     "name": "stderr",
     "text": [
      "100%|██████████| 164982/164982 [00:30<00:00, 5448.43it/s]\n",
      "100%|██████████| 10000/10000 [00:01<00:00, 5631.65it/s]\n",
      "100%|██████████| 10000/10000 [00:01<00:00, 5642.14it/s]\n"
     ]
    }
   ]
  },
  {
   "cell_type": "code",
   "execution_count": 101,
   "metadata": {},
   "outputs": [
    {
     "output_type": "execute_result",
     "data": {
      "text/plain": [
       "2738"
      ]
     },
     "metadata": {},
     "execution_count": 101
    }
   ],
   "source": [
    "len(entity_set['test'])"
   ]
  },
  {
   "cell_type": "code",
   "execution_count": 102,
   "metadata": {},
   "outputs": [
    {
     "output_type": "execute_result",
     "data": {
      "text/plain": [
       "[('march 1st', 166),\n",
       " ('san francisco', 125),\n",
       " ('march 5th', 111),\n",
       " ('march 2nd', 110),\n",
       " ('march 9th', 102),\n",
       " ('march 6th', 102),\n",
       " ('march 10th', 100),\n",
       " ('march 4th', 100),\n",
       " ('march 11th', 97),\n",
       " ('march 3rd', 95),\n",
       " ('march 12th', 93),\n",
       " ('march 7th', 91),\n",
       " ('march 14th', 79),\n",
       " ('5 pm', 77),\n",
       " ('march 8th', 74),\n",
       " ('march 13th', 72),\n",
       " ('san jose', 58),\n",
       " ('los angeles', 48),\n",
       " ('7:30 pm', 46),\n",
       " ('new york', 46),\n",
       " ('1512 barber shop', 45),\n",
       " ('4:30 pm', 42),\n",
       " ('7 pm', 41),\n",
       " ('santa rosa', 39),\n",
       " ('6 pm', 39),\n",
       " ('6:30 pm', 39),\n",
       " ('4.3', 38),\n",
       " ('anaheim', 37),\n",
       " ('4.4', 36),\n",
       " ('union station', 36)]"
      ]
     },
     "metadata": {},
     "execution_count": 102
    }
   ],
   "source": [
    "sorted(entity_count_map['test'].items(), key=lambda x:x[1],reverse=True)[:30]"
   ]
  },
  {
   "cell_type": "code",
   "execution_count": 103,
   "metadata": {},
   "outputs": [],
   "source": [
    "test_unique_entities = entity_set['test'] - entity_set['train']"
   ]
  },
  {
   "cell_type": "code",
   "execution_count": 104,
   "metadata": {},
   "outputs": [],
   "source": [
    "test_unique_entity_count = {k: v for k,v in entity_count_map['test'].items() if k in test_unique_entities}"
   ]
  },
  {
   "cell_type": "code",
   "execution_count": 105,
   "metadata": {},
   "outputs": [
    {
     "output_type": "execute_result",
     "data": {
      "text/plain": [
       "[('alfa romeo stelvio', 28),\n",
       " ('after the wedding', 26),\n",
       " ('audi a8', 25),\n",
       " ('the angry birds movie 2', 24),\n",
       " ('hustlers', 24),\n",
       " ('it chapter two', 24),\n",
       " ('good boys', 23),\n",
       " ('buick regal sportback', 23),\n",
       " ('brittany runs a marathon', 22),\n",
       " ('ad astra', 22),\n",
       " ('the lord of the rings: the return of the king', 21),\n",
       " ('blinded by the light', 21),\n",
       " ('north hollywood station', 19),\n",
       " ('fiddler: a miracle of miracles', 18),\n",
       " ('barskyex bryna g', 18),\n",
       " ('angel has fallen', 18),\n",
       " ('once upon a time in hollywood', 18),\n",
       " ('a faithful man', 16),\n",
       " ('labyrinth', 15),\n",
       " ('hobbs and shaw', 14),\n",
       " ('abbi jacobson', 14),\n",
       " ('new alarm', 14),\n",
       " ('steel magnolias', 14),\n",
       " ('penn station', 14),\n",
       " ('acting for teens', 13),\n",
       " ('pulp fiction', 13),\n",
       " ('toy story 4', 13),\n",
       " ('10th and filbert', 13),\n",
       " ('in fabric', 12),\n",
       " ('bert epstein', 12),\n",
       " ('adam e. pollock', 12),\n",
       " ('kaufmann concert hall', 11),\n",
       " ('a right royale tea', 11),\n",
       " ('9/11 tribute museum', 11),\n",
       " ('yesterday', 11),\n",
       " ('chhichhore', 11),\n",
       " ('advanced acting scene study', 10),\n",
       " ('close encounters of the third kind', 10),\n",
       " (\"alameda children's specialized\", 10),\n",
       " ('transbay terminal', 10),\n",
       " ('fiat panda', 10),\n",
       " ('520 8th ave. - personal valet parking', 10),\n",
       " ('abbey court hotel (hyde park)', 10),\n",
       " ('get up', 10),\n",
       " ('the art of self-defense', 10),\n",
       " ('alissa scanlin psyd', 9),\n",
       " ('65th light rail station', 9),\n",
       " ('el cajon bus stop', 9),\n",
       " ('official secrets', 9),\n",
       " ('anthony green', 9),\n",
       " ('beatleconcert', 9),\n",
       " ('12th avenue arts', 9),\n",
       " ('ariela ora karasov', 9),\n",
       " ('$32.00', 9),\n",
       " ('leininger anne', 8),\n",
       " ('the art of racing in the rain', 8),\n",
       " ('paprika', 8),\n",
       " ('$30.00', 8),\n",
       " ('a year in dragonfly', 8),\n",
       " ('center for learning', 8),\n",
       " ('1831 boutique hotel', 8),\n",
       " ('hyundai ioniq', 8),\n",
       " ('becker hubert j', 8),\n",
       " ('courtyard by marriott sacramento cal expo', 8),\n",
       " ('sw arthur & 1st', 8),\n",
       " ('margaret', 8),\n",
       " ('emma', 8),\n",
       " ('alma deutscher', 7),\n",
       " ('music practice', 7),\n",
       " ('47 meters down: uncaged', 7),\n",
       " ('midsommar', 7),\n",
       " ('alki beach park', 7),\n",
       " ('mary', 7),\n",
       " ('stage door', 7),\n",
       " ('luce', 7),\n",
       " ('$35.00', 7),\n",
       " ('alamo inn & suites', 7),\n",
       " ('ain gordon', 7),\n",
       " ('studio c artists', 7),\n",
       " ('alley pond park', 7),\n",
       " ('mahmoud', 6),\n",
       " ('415-346-2356', 6),\n",
       " ('overcomer', 6),\n",
       " ('banner linda l', 6),\n",
       " ('my big fat greek wedding', 6),\n",
       " ('adam ant', 6),\n",
       " ('annual school performance', 6),\n",
       " ('galeao international airport', 6),\n",
       " ('scary stories to tell in the dark', 6),\n",
       " ('1395 lexington avenue', 6),\n",
       " ('dodge charger', 6),\n",
       " ('jaguar f-pace', 6),\n",
       " ('the artistic home', 6),\n",
       " ('2455 bennett valley road', 6),\n",
       " ('acapella', 6),\n",
       " ('the ladykillers', 6),\n",
       " ('ford focus', 6),\n",
       " ('tel aviv on fire', 6),\n",
       " ('citroen c5', 6),\n",
       " ('silver spring bus stop', 6)]"
      ]
     },
     "metadata": {},
     "execution_count": 105
    }
   ],
   "source": [
    "sorted(test_unique_entity_count.items(), key=lambda x:x[1],reverse=True)[:100]"
   ]
  },
  {
   "cell_type": "code",
   "execution_count": 106,
   "metadata": {},
   "outputs": [
    {
     "output_type": "execute_result",
     "data": {
      "text/plain": [
       "12788"
      ]
     },
     "metadata": {},
     "execution_count": 106
    }
   ],
   "source": [
    "len(entity_set['train'])"
   ]
  },
  {
   "cell_type": "code",
   "execution_count": 107,
   "metadata": {},
   "outputs": [
    {
     "output_type": "execute_result",
     "data": {
      "text/plain": [
       "1102"
      ]
     },
     "metadata": {},
     "execution_count": 107
    }
   ],
   "source": [
    "len(test_unique_entity_count)"
   ]
  },
  {
   "source": [
    "sum(test_unique_entity_count.values())"
   ],
   "cell_type": "code",
   "metadata": {},
   "execution_count": 108,
   "outputs": [
    {
     "output_type": "execute_result",
     "data": {
      "text/plain": [
       "2607"
      ]
     },
     "metadata": {},
     "execution_count": 108
    }
   ]
  },
  {
   "cell_type": "code",
   "execution_count": 109,
   "metadata": {},
   "outputs": [
    {
     "output_type": "execute_result",
     "data": {
      "text/plain": [
       "10166"
      ]
     },
     "metadata": {},
     "execution_count": 109
    }
   ],
   "source": [
    "sum(entity_count_map['test'].values())"
   ]
  },
  {
   "cell_type": "code",
   "execution_count": 111,
   "metadata": {},
   "outputs": [
    {
     "output_type": "stream",
     "name": "stderr",
     "text": [
      "100%|██████████| 10000/10000 [00:01<00:00, 5022.89it/s]\n"
     ]
    }
   ],
   "source": [
    "unseen_diag_count = 0\n",
    "domain_unseen_diag_count = defaultdict(int)\n",
    "domain_unseen_occur_count = defaultdict(int)\n",
    "domain_unseen_entities = defaultdict(set)\n",
    "for example in tqdm(SGD_dataset['test']):\n",
    "    for action in example['dialog_acts']:\n",
    "        if action['slot'] in permissible_slots[example['service']]:\n",
    "            unseen = False\n",
    "            for value in action['values']:\n",
    "                value = value.lower()\n",
    "                if value in test_unique_entities:\n",
    "                    domain = example['service'].split('_')[0]\n",
    "                    if not unseen:\n",
    "                        unseen_diag_count += 1\n",
    "                        domain_unseen_diag_count[domain] += 1\n",
    "                        unseen = True\n",
    "                    domain_unseen_occur_count[domain] += 1\n",
    "                    domain_unseen_entities[domain].add(value)\n",
    "                    \n",
    "                "
   ]
  },
  {
   "cell_type": "code",
   "execution_count": 112,
   "metadata": {},
   "outputs": [
    {
     "output_type": "execute_result",
     "data": {
      "text/plain": [
       "[('Services', 386),\n",
       " ('Events', 373),\n",
       " ('Movies', 362),\n",
       " ('RentalCars', 265),\n",
       " ('Media', 248),\n",
       " ('Hotels', 158),\n",
       " ('Messaging', 124),\n",
       " ('Music', 105),\n",
       " ('Buses', 104),\n",
       " ('Alarm', 86),\n",
       " ('Restaurants', 82),\n",
       " ('Travel', 81),\n",
       " ('Homes', 75),\n",
       " ('RideSharing', 63),\n",
       " ('Payment', 51),\n",
       " ('Flights', 41),\n",
       " ('Trains', 2),\n",
       " ('Weather', 1)]"
      ]
     },
     "metadata": {},
     "execution_count": 112
    }
   ],
   "source": [
    "sorted(domain_unseen_occur_count.items(), key=lambda x: x[1], reverse=True)"
   ]
  },
  {
   "cell_type": "code",
   "execution_count": 113,
   "metadata": {},
   "outputs": [
    {
     "output_type": "execute_result",
     "data": {
      "text/plain": [
       "[('Services', 386),\n",
       " ('Events', 373),\n",
       " ('RentalCars', 265),\n",
       " ('Movies', 252),\n",
       " ('Media', 195),\n",
       " ('Hotels', 158),\n",
       " ('Messaging', 124),\n",
       " ('Music', 105),\n",
       " ('Buses', 104),\n",
       " ('Alarm', 86),\n",
       " ('Restaurants', 82),\n",
       " ('Travel', 81),\n",
       " ('Homes', 75),\n",
       " ('RideSharing', 63),\n",
       " ('Payment', 51),\n",
       " ('Flights', 41),\n",
       " ('Trains', 2),\n",
       " ('Weather', 1)]"
      ]
     },
     "metadata": {},
     "execution_count": 113
    }
   ],
   "source": [
    "sorted(domain_unseen_diag_count.items(), key=lambda x: x[1], reverse=True)"
   ]
  },
  {
   "cell_type": "code",
   "execution_count": 116,
   "metadata": {},
   "outputs": [
    {
     "output_type": "execute_result",
     "data": {
      "text/plain": [
       "{'47 meters down: uncaged',\n",
       " 'a faithful man',\n",
       " 'ad astra',\n",
       " 'after the wedding',\n",
       " 'alexander calvert',\n",
       " 'angel has fallen',\n",
       " 'bjorn andresen',\n",
       " 'blake clark',\n",
       " 'blinded by the light',\n",
       " 'britta steffenhagen',\n",
       " 'brittany runs a marathon',\n",
       " 'bruce willis',\n",
       " 'caroline catz',\n",
       " 'chhichhore',\n",
       " 'chris galust',\n",
       " 'christopher mann',\n",
       " 'close encounters of the third kind',\n",
       " 'cult',\n",
       " 'dali benssalah',\n",
       " 'documentary',\n",
       " 'don blakely',\n",
       " 'echo in the canyon',\n",
       " 'elijah wood',\n",
       " 'fiddler: a miracle of miracles',\n",
       " 'frank oz',\n",
       " 'give me liberty',\n",
       " 'good boys',\n",
       " 'helena holmes',\n",
       " 'hobbs and shaw',\n",
       " 'hustlers',\n",
       " 'in fabric',\n",
       " 'it chapter two',\n",
       " 'james wlcek',\n",
       " 'kate mckinnon',\n",
       " 'labyrinth',\n",
       " 'lori alan',\n",
       " 'luce',\n",
       " \"madeline's madeline\",\n",
       " 'midsommar',\n",
       " 'mission mangal',\n",
       " 'my big fat greek wedding',\n",
       " 'naveen polishetty',\n",
       " 'official secrets',\n",
       " 'once upon a time in hollywood',\n",
       " 'one cut of the dead',\n",
       " 'paprika',\n",
       " 'pavle cemerikic',\n",
       " 'pulp fiction',\n",
       " 'rafael federman',\n",
       " 'roger mcguinn',\n",
       " 'rojo',\n",
       " 'scary stories to tell in the dark',\n",
       " 'stage door',\n",
       " 'steel magnolias',\n",
       " 'stephen powers',\n",
       " 'tel aviv on fire',\n",
       " 'the angry birds movie 2',\n",
       " 'the art of racing in the rain',\n",
       " 'the art of self-defense',\n",
       " 'the farewell',\n",
       " 'the ladykillers',\n",
       " 'the load',\n",
       " 'the lord of the rings: the return of the king',\n",
       " 'theatre of blood',\n",
       " 'tigers are not afraid',\n",
       " 'timothy olyphant',\n",
       " 'tony hale',\n",
       " 'toy story 4',\n",
       " \"where'd you go, bernadette\",\n",
       " 'yesterday',\n",
       " 'zhao shuzhen'}"
      ]
     },
     "metadata": {},
     "execution_count": 116
    }
   ],
   "source": [
    "domain_unseen_entities['Media']"
   ]
  },
  {
   "cell_type": "code",
   "execution_count": 117,
   "metadata": {},
   "outputs": [
    {
     "output_type": "execute_result",
     "data": {
      "text/plain": [
       "0.2444"
      ]
     },
     "metadata": {},
     "execution_count": 117
    }
   ],
   "source": [
    "unseen_diag_count / len(SGD_dataset['test'])"
   ]
  },
  {
   "cell_type": "code",
   "execution_count": 118,
   "metadata": {},
   "outputs": [
    {
     "output_type": "execute_result",
     "data": {
      "text/plain": [
       "2444"
      ]
     },
     "metadata": {},
     "execution_count": 118
    }
   ],
   "source": [
    "unseen_diag_count"
   ]
  },
  {
   "cell_type": "code",
   "execution_count": null,
   "metadata": {},
   "outputs": [],
   "source": []
  }
 ]
}